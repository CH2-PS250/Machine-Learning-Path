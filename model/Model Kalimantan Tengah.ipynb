{
 "cells": [
  {
   "cell_type": "code",
   "execution_count": 1,
   "metadata": {
    "id": "CfVEKu5PYxJ2"
   },
   "outputs": [],
   "source": [
    "import pandas as pd\n",
    "import numpy as np\n",
    "import matplotlib.pyplot as plt\n",
    "from matplotlib import pyplot\n",
    "import datetime\n",
    "import sklearn as sk\n",
    "from sklearn.linear_model import LinearRegression"
   ]
  },
  {
   "cell_type": "code",
   "execution_count": 2,
   "metadata": {
    "colab": {
     "base_uri": "https://localhost:8080/"
    },
    "id": "yRaJCyoyY5sZ",
    "outputId": "3f09d5c6-735f-4644-b382-16d5cc84ec5f"
   },
   "outputs": [
    {
     "name": "stdout",
     "output_type": "stream",
     "text": [
      "<class 'pandas.core.frame.DataFrame'>\n",
      "RangeIndex: 383 entries, 0 to 382\n",
      "Data columns (total 11 columns):\n",
      " #   Column   Non-Null Count  Dtype         \n",
      "---  ------   --------------  -----         \n",
      " 0   Tanggal  383 non-null    datetime64[ns]\n",
      " 1   Tn       355 non-null    float64       \n",
      " 2   Tx       347 non-null    float64       \n",
      " 3   Tavg     346 non-null    float64       \n",
      " 4   RH_avg   346 non-null    float64       \n",
      " 5   RR       355 non-null    float64       \n",
      " 6   ss       355 non-null    float64       \n",
      " 7   ff_x     358 non-null    float64       \n",
      " 8   ddd_x    358 non-null    float64       \n",
      " 9   ff_avg   358 non-null    float64       \n",
      " 10  ddd_car  358 non-null    object        \n",
      "dtypes: datetime64[ns](1), float64(9), object(1)\n",
      "memory usage: 33.0+ KB\n"
     ]
    },
    {
     "name": "stderr",
     "output_type": "stream",
     "text": [
      "C:\\Users\\rivan\\AppData\\Local\\Temp\\ipykernel_10720\\1862007407.py:3: UserWarning: Parsing dates in DD/MM/YYYY format when dayfirst=False (the default) was specified. This may lead to inconsistently parsed dates! Specify a format to ensure consistent parsing.\n",
      "  df['Tanggal'] = pd.to_datetime(df.Tanggal)\n"
     ]
    }
   ],
   "source": [
    "# membaca file dan ubah tanggal menjadi time series\n",
    "df = pd.read_csv(\"Kalimantan Tengah.csv\")\n",
    "df['Tanggal'] = pd.to_datetime(df.Tanggal)\n",
    "df.info()"
   ]
  },
  {
   "cell_type": "code",
   "execution_count": null,
   "metadata": {},
   "outputs": [],
   "source": []
  },
  {
   "cell_type": "code",
   "execution_count": 3,
   "metadata": {
    "colab": {
     "base_uri": "https://localhost:8080/",
     "height": 424
    },
    "id": "iZ1uMQPpY5vq",
    "outputId": "eb3df205-1288-4c87-f055-0577ae10eb71"
   },
   "outputs": [
    {
     "data": {
      "text/html": [
       "<div>\n",
       "<style scoped>\n",
       "    .dataframe tbody tr th:only-of-type {\n",
       "        vertical-align: middle;\n",
       "    }\n",
       "\n",
       "    .dataframe tbody tr th {\n",
       "        vertical-align: top;\n",
       "    }\n",
       "\n",
       "    .dataframe thead th {\n",
       "        text-align: right;\n",
       "    }\n",
       "</style>\n",
       "<table border=\"1\" class=\"dataframe\">\n",
       "  <thead>\n",
       "    <tr style=\"text-align: right;\">\n",
       "      <th></th>\n",
       "      <th>Tanggal</th>\n",
       "      <th>Tn</th>\n",
       "      <th>Tx</th>\n",
       "      <th>RR</th>\n",
       "      <th>Tavg</th>\n",
       "    </tr>\n",
       "  </thead>\n",
       "  <tbody>\n",
       "    <tr>\n",
       "      <th>0</th>\n",
       "      <td>2023-01-01</td>\n",
       "      <td>22.8</td>\n",
       "      <td>33.0</td>\n",
       "      <td>0.0</td>\n",
       "      <td>27.7</td>\n",
       "    </tr>\n",
       "    <tr>\n",
       "      <th>1</th>\n",
       "      <td>2023-02-01</td>\n",
       "      <td>24.0</td>\n",
       "      <td>33.6</td>\n",
       "      <td>0.0</td>\n",
       "      <td>27.8</td>\n",
       "    </tr>\n",
       "    <tr>\n",
       "      <th>2</th>\n",
       "      <td>2023-03-01</td>\n",
       "      <td>24.3</td>\n",
       "      <td>32.3</td>\n",
       "      <td>0.0</td>\n",
       "      <td>24.5</td>\n",
       "    </tr>\n",
       "    <tr>\n",
       "      <th>3</th>\n",
       "      <td>2023-04-01</td>\n",
       "      <td>22.6</td>\n",
       "      <td>NaN</td>\n",
       "      <td>24.3</td>\n",
       "      <td>NaN</td>\n",
       "    </tr>\n",
       "    <tr>\n",
       "      <th>4</th>\n",
       "      <td>2023-05-01</td>\n",
       "      <td>22.6</td>\n",
       "      <td>31.0</td>\n",
       "      <td>0.7</td>\n",
       "      <td>24.7</td>\n",
       "    </tr>\n",
       "    <tr>\n",
       "      <th>...</th>\n",
       "      <td>...</td>\n",
       "      <td>...</td>\n",
       "      <td>...</td>\n",
       "      <td>...</td>\n",
       "      <td>...</td>\n",
       "    </tr>\n",
       "    <tr>\n",
       "      <th>378</th>\n",
       "      <td>2023-12-16</td>\n",
       "      <td>NaN</td>\n",
       "      <td>NaN</td>\n",
       "      <td>NaN</td>\n",
       "      <td>NaN</td>\n",
       "    </tr>\n",
       "    <tr>\n",
       "      <th>379</th>\n",
       "      <td>2023-12-17</td>\n",
       "      <td>NaN</td>\n",
       "      <td>NaN</td>\n",
       "      <td>NaN</td>\n",
       "      <td>NaN</td>\n",
       "    </tr>\n",
       "    <tr>\n",
       "      <th>380</th>\n",
       "      <td>2023-12-18</td>\n",
       "      <td>NaN</td>\n",
       "      <td>34.2</td>\n",
       "      <td>NaN</td>\n",
       "      <td>28.2</td>\n",
       "    </tr>\n",
       "    <tr>\n",
       "      <th>381</th>\n",
       "      <td>2023-12-19</td>\n",
       "      <td>23.2</td>\n",
       "      <td>32.4</td>\n",
       "      <td>22.5</td>\n",
       "      <td>27.1</td>\n",
       "    </tr>\n",
       "    <tr>\n",
       "      <th>382</th>\n",
       "      <td>2023-12-20</td>\n",
       "      <td>24.6</td>\n",
       "      <td>33.2</td>\n",
       "      <td>0.5</td>\n",
       "      <td>29.5</td>\n",
       "    </tr>\n",
       "  </tbody>\n",
       "</table>\n",
       "<p>383 rows × 5 columns</p>\n",
       "</div>"
      ],
      "text/plain": [
       "       Tanggal    Tn    Tx    RR  Tavg\n",
       "0   2023-01-01  22.8  33.0   0.0  27.7\n",
       "1   2023-02-01  24.0  33.6   0.0  27.8\n",
       "2   2023-03-01  24.3  32.3   0.0  24.5\n",
       "3   2023-04-01  22.6   NaN  24.3   NaN\n",
       "4   2023-05-01  22.6  31.0   0.7  24.7\n",
       "..         ...   ...   ...   ...   ...\n",
       "378 2023-12-16   NaN   NaN   NaN   NaN\n",
       "379 2023-12-17   NaN   NaN   NaN   NaN\n",
       "380 2023-12-18   NaN  34.2   NaN  28.2\n",
       "381 2023-12-19  23.2  32.4  22.5  27.1\n",
       "382 2023-12-20  24.6  33.2   0.5  29.5\n",
       "\n",
       "[383 rows x 5 columns]"
      ]
     },
     "execution_count": 3,
     "metadata": {},
     "output_type": "execute_result"
    }
   ],
   "source": [
    "#ambil data tanggal, tn (temperatur minimum), tx(temperatur maksimum), RR(curah hujan), Tavg(tempeartur rata rata)\n",
    "df1 = df[[\"Tanggal\", \"Tn\",\"Tx\",\"RR\", \"Tavg\"]]\n",
    "df1"
   ]
  },
  {
   "cell_type": "code",
   "execution_count": 4,
   "metadata": {
    "colab": {
     "base_uri": "https://localhost:8080/"
    },
    "id": "yvK9ToBHY5yA",
    "outputId": "82a7b014-2cc2-4f93-d94f-5b055254309d"
   },
   "outputs": [
    {
     "data": {
      "text/plain": [
       "58"
      ]
     },
     "execution_count": 4,
     "metadata": {},
     "output_type": "execute_result"
    }
   ],
   "source": [
    "# cek duplikat\n",
    "df1.duplicated('Tanggal', keep=False).sum()"
   ]
  },
  {
   "cell_type": "code",
   "execution_count": 5,
   "metadata": {
    "colab": {
     "base_uri": "https://localhost:8080/"
    },
    "id": "YapCeqcnY51J",
    "outputId": "88869788-f6b2-402e-8e1a-d21c2a9fa228"
   },
   "outputs": [
    {
     "data": {
      "text/plain": [
       "0"
      ]
     },
     "execution_count": 5,
     "metadata": {},
     "output_type": "execute_result"
    }
   ],
   "source": [
    "# hapus duplikat\n",
    "df1 = df1.drop_duplicates('Tanggal', keep='first').reset_index()\n",
    "df1.duplicated().sum()"
   ]
  },
  {
   "cell_type": "code",
   "execution_count": 6,
   "metadata": {
    "colab": {
     "base_uri": "https://localhost:8080/"
    },
    "id": "IU_XLxi9Y56l",
    "outputId": "c33112b1-5dee-4267-f4b3-63d23572b7b1"
   },
   "outputs": [
    {
     "data": {
      "text/plain": [
       "index      0\n",
       "Tanggal    0\n",
       "Tn         0\n",
       "Tx         0\n",
       "RR         0\n",
       "Tavg       0\n",
       "dtype: int64"
      ]
     },
     "execution_count": 6,
     "metadata": {},
     "output_type": "execute_result"
    }
   ],
   "source": [
    "# ganti kode 8888 menjadi 0.0\n",
    "df1 = df1.replace(8888, 0.0)\n",
    "df1.loc[df1['RR']==8888].count()"
   ]
  },
  {
   "cell_type": "code",
   "execution_count": 7,
   "metadata": {
    "colab": {
     "base_uri": "https://localhost:8080/",
     "height": 424
    },
    "id": "u9HXd2iXY6AS",
    "outputId": "3ce7b3aa-ef9c-4220-95f8-2bbd7ac3f889"
   },
   "outputs": [
    {
     "data": {
      "text/html": [
       "<div>\n",
       "<style scoped>\n",
       "    .dataframe tbody tr th:only-of-type {\n",
       "        vertical-align: middle;\n",
       "    }\n",
       "\n",
       "    .dataframe tbody tr th {\n",
       "        vertical-align: top;\n",
       "    }\n",
       "\n",
       "    .dataframe thead th {\n",
       "        text-align: right;\n",
       "    }\n",
       "</style>\n",
       "<table border=\"1\" class=\"dataframe\">\n",
       "  <thead>\n",
       "    <tr style=\"text-align: right;\">\n",
       "      <th></th>\n",
       "      <th>level_0</th>\n",
       "      <th>index</th>\n",
       "      <th>Tanggal</th>\n",
       "      <th>Tn</th>\n",
       "      <th>Tx</th>\n",
       "      <th>RR</th>\n",
       "      <th>Tavg</th>\n",
       "    </tr>\n",
       "  </thead>\n",
       "  <tbody>\n",
       "    <tr>\n",
       "      <th>0</th>\n",
       "      <td>0</td>\n",
       "      <td>0</td>\n",
       "      <td>2023-01-01</td>\n",
       "      <td>22.8</td>\n",
       "      <td>33.0</td>\n",
       "      <td>0.0</td>\n",
       "      <td>27.7</td>\n",
       "    </tr>\n",
       "    <tr>\n",
       "      <th>1</th>\n",
       "      <td>31</td>\n",
       "      <td>31</td>\n",
       "      <td>2023-01-02</td>\n",
       "      <td>23.9</td>\n",
       "      <td>NaN</td>\n",
       "      <td>0.0</td>\n",
       "      <td>NaN</td>\n",
       "    </tr>\n",
       "    <tr>\n",
       "      <th>2</th>\n",
       "      <td>59</td>\n",
       "      <td>59</td>\n",
       "      <td>2023-01-03</td>\n",
       "      <td>23.4</td>\n",
       "      <td>29.7</td>\n",
       "      <td>1.2</td>\n",
       "      <td>23.9</td>\n",
       "    </tr>\n",
       "    <tr>\n",
       "      <th>3</th>\n",
       "      <td>90</td>\n",
       "      <td>119</td>\n",
       "      <td>2023-01-04</td>\n",
       "      <td>NaN</td>\n",
       "      <td>NaN</td>\n",
       "      <td>NaN</td>\n",
       "      <td>NaN</td>\n",
       "    </tr>\n",
       "    <tr>\n",
       "      <th>4</th>\n",
       "      <td>120</td>\n",
       "      <td>149</td>\n",
       "      <td>2023-01-05</td>\n",
       "      <td>24.3</td>\n",
       "      <td>33.6</td>\n",
       "      <td>0.0</td>\n",
       "      <td>27.6</td>\n",
       "    </tr>\n",
       "    <tr>\n",
       "      <th>...</th>\n",
       "      <td>...</td>\n",
       "      <td>...</td>\n",
       "      <td>...</td>\n",
       "      <td>...</td>\n",
       "      <td>...</td>\n",
       "      <td>...</td>\n",
       "      <td>...</td>\n",
       "    </tr>\n",
       "    <tr>\n",
       "      <th>349</th>\n",
       "      <td>349</td>\n",
       "      <td>378</td>\n",
       "      <td>2023-12-16</td>\n",
       "      <td>NaN</td>\n",
       "      <td>NaN</td>\n",
       "      <td>NaN</td>\n",
       "      <td>NaN</td>\n",
       "    </tr>\n",
       "    <tr>\n",
       "      <th>350</th>\n",
       "      <td>350</td>\n",
       "      <td>379</td>\n",
       "      <td>2023-12-17</td>\n",
       "      <td>NaN</td>\n",
       "      <td>NaN</td>\n",
       "      <td>NaN</td>\n",
       "      <td>NaN</td>\n",
       "    </tr>\n",
       "    <tr>\n",
       "      <th>351</th>\n",
       "      <td>351</td>\n",
       "      <td>380</td>\n",
       "      <td>2023-12-18</td>\n",
       "      <td>NaN</td>\n",
       "      <td>34.2</td>\n",
       "      <td>NaN</td>\n",
       "      <td>28.2</td>\n",
       "    </tr>\n",
       "    <tr>\n",
       "      <th>352</th>\n",
       "      <td>352</td>\n",
       "      <td>381</td>\n",
       "      <td>2023-12-19</td>\n",
       "      <td>23.2</td>\n",
       "      <td>32.4</td>\n",
       "      <td>22.5</td>\n",
       "      <td>27.1</td>\n",
       "    </tr>\n",
       "    <tr>\n",
       "      <th>353</th>\n",
       "      <td>353</td>\n",
       "      <td>382</td>\n",
       "      <td>2023-12-20</td>\n",
       "      <td>24.6</td>\n",
       "      <td>33.2</td>\n",
       "      <td>0.5</td>\n",
       "      <td>29.5</td>\n",
       "    </tr>\n",
       "  </tbody>\n",
       "</table>\n",
       "<p>354 rows × 7 columns</p>\n",
       "</div>"
      ],
      "text/plain": [
       "     level_0  index    Tanggal    Tn    Tx    RR  Tavg\n",
       "0          0      0 2023-01-01  22.8  33.0   0.0  27.7\n",
       "1         31     31 2023-01-02  23.9   NaN   0.0   NaN\n",
       "2         59     59 2023-01-03  23.4  29.7   1.2  23.9\n",
       "3         90    119 2023-01-04   NaN   NaN   NaN   NaN\n",
       "4        120    149 2023-01-05  24.3  33.6   0.0  27.6\n",
       "..       ...    ...        ...   ...   ...   ...   ...\n",
       "349      349    378 2023-12-16   NaN   NaN   NaN   NaN\n",
       "350      350    379 2023-12-17   NaN   NaN   NaN   NaN\n",
       "351      351    380 2023-12-18   NaN  34.2   NaN  28.2\n",
       "352      352    381 2023-12-19  23.2  32.4  22.5  27.1\n",
       "353      353    382 2023-12-20  24.6  33.2   0.5  29.5\n",
       "\n",
       "[354 rows x 7 columns]"
      ]
     },
     "execution_count": 7,
     "metadata": {},
     "output_type": "execute_result"
    }
   ],
   "source": [
    "# sort berdasarkan tanggal\n",
    "df1 = df1.sort_values(by=[\"Tanggal\"]).reset_index()\n",
    "df1"
   ]
  },
  {
   "cell_type": "code",
   "execution_count": 8,
   "metadata": {
    "colab": {
     "base_uri": "https://localhost:8080/"
    },
    "id": "zMcRn2p2Y59d",
    "outputId": "bad67be3-eae1-4b42-92d4-a4ab0ad2eb41"
   },
   "outputs": [
    {
     "data": {
      "text/plain": [
       "level_0     0\n",
       "index       0\n",
       "Tanggal     0\n",
       "Tn         25\n",
       "Tx         32\n",
       "RR         25\n",
       "Tavg       33\n",
       "dtype: int64"
      ]
     },
     "execution_count": 8,
     "metadata": {},
     "output_type": "execute_result"
    }
   ],
   "source": [
    "#cek null\n",
    "df1.isnull().sum()"
   ]
  },
  {
   "cell_type": "code",
   "execution_count": 9,
   "metadata": {
    "colab": {
     "base_uri": "https://localhost:8080/"
    },
    "id": "-y069NkVY6Fa",
    "outputId": "348c562f-81d5-414f-8b1a-8b51a9be1dfc"
   },
   "outputs": [
    {
     "data": {
      "text/plain": [
       "level_0     0\n",
       "index       0\n",
       "Tanggal     0\n",
       "Tn          0\n",
       "Tx          0\n",
       "RR          0\n",
       "Tavg       29\n",
       "dtype: int64"
      ]
     },
     "execution_count": 9,
     "metadata": {},
     "output_type": "execute_result"
    }
   ],
   "source": [
    "# isi yang null\n",
    "mrr = df1['RR'].mean()\n",
    "tnn = df1['Tn'].mean()\n",
    "txx = df1['Tx'].mean()\n",
    "mav = (df1['Tn'] + df1['Tx'])/2\n",
    "\n",
    "df1['RR'] = df1['RR'].fillna(mrr)\n",
    "df1['Tn'] = df1['Tn'].fillna(tnn)\n",
    "df1['Tx'] = df1['Tx'].fillna(txx)\n",
    "df1['Tavg'] = df1['Tavg'].fillna(mav)\n",
    "\n",
    "df1.isnull().sum()"
   ]
  },
  {
   "cell_type": "code",
   "execution_count": 10,
   "metadata": {
    "colab": {
     "base_uri": "https://localhost:8080/"
    },
    "id": "WCqYg1YLQYn0",
    "outputId": "2cd83993-9e66-4f32-c2a6-f2992a6ea656"
   },
   "outputs": [
    {
     "data": {
      "text/plain": [
       "level_0    0\n",
       "index      0\n",
       "Tanggal    0\n",
       "Tn         0\n",
       "Tx         0\n",
       "RR         0\n",
       "Tavg       0\n",
       "dtype: int64"
      ]
     },
     "execution_count": 10,
     "metadata": {},
     "output_type": "execute_result"
    }
   ],
   "source": [
    "ma = df1['Tavg'].mean()\n",
    "df1['Tavg'] = df1['Tavg'].fillna(ma)\n",
    "df1.isnull().sum()"
   ]
  },
  {
   "cell_type": "code",
   "execution_count": 11,
   "metadata": {
    "colab": {
     "base_uri": "https://localhost:8080/",
     "height": 447
    },
    "id": "mBjWjIjzY6Iy",
    "outputId": "c0a5b04a-a393-4429-ce47-1511c0b9ae18"
   },
   "outputs": [
    {
     "data": {
      "text/plain": [
       "<Axes: >"
      ]
     },
     "execution_count": 11,
     "metadata": {},
     "output_type": "execute_result"
    },
    {
     "data": {
      "image/png": "[encoded data removed]",
      "text/plain": [
       "<Figure size 640x480 with 1 Axes>"
      ]
     },
     "metadata": {},
     "output_type": "display_data"
    }
   ],
   "source": [
    "#plotting tavg\n",
    "df1[['Tavg']].plot()"
   ]
  },
  {
   "cell_type": "code",
   "execution_count": 12,
   "metadata": {
    "colab": {
     "base_uri": "https://localhost:8080/",
     "height": 447
    },
    "id": "KmZ9c14nY6OL",
    "outputId": "3aa05616-a2e8-4a0e-ff6e-484cdf9b9295"
   },
   "outputs": [
    {
     "data": {
      "text/plain": [
       "<Axes: >"
      ]
     },
     "execution_count": 12,
     "metadata": {},
     "output_type": "execute_result"
    },
    {
     "data": {
      "image/png": "[encoded data removed]",
      "text/plain": [
       "<Figure size 640x480 with 1 Axes>"
      ]
     },
     "metadata": {},
     "output_type": "display_data"
    }
   ],
   "source": [
    "#plotting tavg\n",
    "df1[['RR']].plot()"
   ]
  },
  {
   "cell_type": "code",
   "execution_count": 13,
   "metadata": {
    "colab": {
     "base_uri": "https://localhost:8080/",
     "height": 424
    },
    "id": "9X7QzccqdrA9",
    "outputId": "183bb732-fb98-4de1-c5ed-e763323ae45d"
   },
   "outputs": [
    {
     "data": {
      "text/html": [
       "<div>\n",
       "<style scoped>\n",
       "    .dataframe tbody tr th:only-of-type {\n",
       "        vertical-align: middle;\n",
       "    }\n",
       "\n",
       "    .dataframe tbody tr th {\n",
       "        vertical-align: top;\n",
       "    }\n",
       "\n",
       "    .dataframe thead th {\n",
       "        text-align: right;\n",
       "    }\n",
       "</style>\n",
       "<table border=\"1\" class=\"dataframe\">\n",
       "  <thead>\n",
       "    <tr style=\"text-align: right;\">\n",
       "      <th></th>\n",
       "      <th>level_0</th>\n",
       "      <th>index</th>\n",
       "      <th>Tanggal</th>\n",
       "      <th>Tn</th>\n",
       "      <th>Tx</th>\n",
       "      <th>RR</th>\n",
       "      <th>Tavg</th>\n",
       "      <th>ptx</th>\n",
       "      <th>pta</th>\n",
       "      <th>ptr</th>\n",
       "    </tr>\n",
       "  </thead>\n",
       "  <tbody>\n",
       "    <tr>\n",
       "      <th>0</th>\n",
       "      <td>0</td>\n",
       "      <td>0</td>\n",
       "      <td>2023-01-01</td>\n",
       "      <td>22.800000</td>\n",
       "      <td>33.000000</td>\n",
       "      <td>0.000000</td>\n",
       "      <td>27.700000</td>\n",
       "      <td>32.818323</td>\n",
       "      <td>27.209077</td>\n",
       "      <td>0.000000</td>\n",
       "    </tr>\n",
       "    <tr>\n",
       "      <th>1</th>\n",
       "      <td>31</td>\n",
       "      <td>31</td>\n",
       "      <td>2023-01-02</td>\n",
       "      <td>23.900000</td>\n",
       "      <td>32.818323</td>\n",
       "      <td>0.000000</td>\n",
       "      <td>27.209077</td>\n",
       "      <td>29.700000</td>\n",
       "      <td>23.900000</td>\n",
       "      <td>1.200000</td>\n",
       "    </tr>\n",
       "    <tr>\n",
       "      <th>2</th>\n",
       "      <td>59</td>\n",
       "      <td>59</td>\n",
       "      <td>2023-01-03</td>\n",
       "      <td>23.400000</td>\n",
       "      <td>29.700000</td>\n",
       "      <td>1.200000</td>\n",
       "      <td>23.900000</td>\n",
       "      <td>32.818323</td>\n",
       "      <td>27.209077</td>\n",
       "      <td>6.052888</td>\n",
       "    </tr>\n",
       "    <tr>\n",
       "      <th>3</th>\n",
       "      <td>90</td>\n",
       "      <td>119</td>\n",
       "      <td>2023-01-04</td>\n",
       "      <td>23.291793</td>\n",
       "      <td>32.818323</td>\n",
       "      <td>6.052888</td>\n",
       "      <td>27.209077</td>\n",
       "      <td>33.600000</td>\n",
       "      <td>27.600000</td>\n",
       "      <td>0.000000</td>\n",
       "    </tr>\n",
       "    <tr>\n",
       "      <th>4</th>\n",
       "      <td>120</td>\n",
       "      <td>149</td>\n",
       "      <td>2023-01-05</td>\n",
       "      <td>24.300000</td>\n",
       "      <td>33.600000</td>\n",
       "      <td>0.000000</td>\n",
       "      <td>27.600000</td>\n",
       "      <td>32.600000</td>\n",
       "      <td>28.400000</td>\n",
       "      <td>0.000000</td>\n",
       "    </tr>\n",
       "    <tr>\n",
       "      <th>...</th>\n",
       "      <td>...</td>\n",
       "      <td>...</td>\n",
       "      <td>...</td>\n",
       "      <td>...</td>\n",
       "      <td>...</td>\n",
       "      <td>...</td>\n",
       "      <td>...</td>\n",
       "      <td>...</td>\n",
       "      <td>...</td>\n",
       "      <td>...</td>\n",
       "    </tr>\n",
       "    <tr>\n",
       "      <th>349</th>\n",
       "      <td>349</td>\n",
       "      <td>378</td>\n",
       "      <td>2023-12-16</td>\n",
       "      <td>23.291793</td>\n",
       "      <td>32.818323</td>\n",
       "      <td>6.052888</td>\n",
       "      <td>27.209077</td>\n",
       "      <td>32.818323</td>\n",
       "      <td>27.209077</td>\n",
       "      <td>6.052888</td>\n",
       "    </tr>\n",
       "    <tr>\n",
       "      <th>350</th>\n",
       "      <td>350</td>\n",
       "      <td>379</td>\n",
       "      <td>2023-12-17</td>\n",
       "      <td>23.291793</td>\n",
       "      <td>32.818323</td>\n",
       "      <td>6.052888</td>\n",
       "      <td>27.209077</td>\n",
       "      <td>34.200000</td>\n",
       "      <td>28.200000</td>\n",
       "      <td>6.052888</td>\n",
       "    </tr>\n",
       "    <tr>\n",
       "      <th>351</th>\n",
       "      <td>351</td>\n",
       "      <td>380</td>\n",
       "      <td>2023-12-18</td>\n",
       "      <td>23.291793</td>\n",
       "      <td>34.200000</td>\n",
       "      <td>6.052888</td>\n",
       "      <td>28.200000</td>\n",
       "      <td>32.400000</td>\n",
       "      <td>27.100000</td>\n",
       "      <td>22.500000</td>\n",
       "    </tr>\n",
       "    <tr>\n",
       "      <th>352</th>\n",
       "      <td>352</td>\n",
       "      <td>381</td>\n",
       "      <td>2023-12-19</td>\n",
       "      <td>23.200000</td>\n",
       "      <td>32.400000</td>\n",
       "      <td>22.500000</td>\n",
       "      <td>27.100000</td>\n",
       "      <td>33.200000</td>\n",
       "      <td>29.500000</td>\n",
       "      <td>0.500000</td>\n",
       "    </tr>\n",
       "    <tr>\n",
       "      <th>353</th>\n",
       "      <td>353</td>\n",
       "      <td>382</td>\n",
       "      <td>2023-12-20</td>\n",
       "      <td>24.600000</td>\n",
       "      <td>33.200000</td>\n",
       "      <td>0.500000</td>\n",
       "      <td>29.500000</td>\n",
       "      <td>NaN</td>\n",
       "      <td>NaN</td>\n",
       "      <td>NaN</td>\n",
       "    </tr>\n",
       "  </tbody>\n",
       "</table>\n",
       "<p>354 rows × 10 columns</p>\n",
       "</div>"
      ],
      "text/plain": [
       "     level_0  index    Tanggal         Tn         Tx         RR       Tavg  \\\n",
       "0          0      0 2023-01-01  22.800000  33.000000   0.000000  27.700000   \n",
       "1         31     31 2023-01-02  23.900000  32.818323   0.000000  27.209077   \n",
       "2         59     59 2023-01-03  23.400000  29.700000   1.200000  23.900000   \n",
       "3         90    119 2023-01-04  23.291793  32.818323   6.052888  27.209077   \n",
       "4        120    149 2023-01-05  24.300000  33.600000   0.000000  27.600000   \n",
       "..       ...    ...        ...        ...        ...        ...        ...   \n",
       "349      349    378 2023-12-16  23.291793  32.818323   6.052888  27.209077   \n",
       "350      350    379 2023-12-17  23.291793  32.818323   6.052888  27.209077   \n",
       "351      351    380 2023-12-18  23.291793  34.200000   6.052888  28.200000   \n",
       "352      352    381 2023-12-19  23.200000  32.400000  22.500000  27.100000   \n",
       "353      353    382 2023-12-20  24.600000  33.200000   0.500000  29.500000   \n",
       "\n",
       "           ptx        pta        ptr  \n",
       "0    32.818323  27.209077   0.000000  \n",
       "1    29.700000  23.900000   1.200000  \n",
       "2    32.818323  27.209077   6.052888  \n",
       "3    33.600000  27.600000   0.000000  \n",
       "4    32.600000  28.400000   0.000000  \n",
       "..         ...        ...        ...  \n",
       "349  32.818323  27.209077   6.052888  \n",
       "350  34.200000  28.200000   6.052888  \n",
       "351  32.400000  27.100000  22.500000  \n",
       "352  33.200000  29.500000   0.500000  \n",
       "353        NaN        NaN        NaN  \n",
       "\n",
       "[354 rows x 10 columns]"
      ]
     },
     "execution_count": 13,
     "metadata": {},
     "output_type": "execute_result"
    }
   ],
   "source": [
    "#shifting tx, tavg, dan rr\n",
    "df1['ptx'] = df1.shift(-1)[\"Tx\"]\n",
    "df1['pta'] = df1.shift(-1)[\"Tavg\"]\n",
    "df1['ptr'] = df1.shift(-1)[\"RR\"]\n",
    "df1"
   ]
  },
  {
   "cell_type": "code",
   "execution_count": 14,
   "metadata": {
    "colab": {
     "base_uri": "https://localhost:8080/",
     "height": 424
    },
    "id": "eskLTZ_xdrDh",
    "outputId": "be2c0f52-cd53-44a3-bcc5-1c4bed0a7f6f"
   },
   "outputs": [
    {
     "data": {
      "text/html": [
       "<div>\n",
       "<style scoped>\n",
       "    .dataframe tbody tr th:only-of-type {\n",
       "        vertical-align: middle;\n",
       "    }\n",
       "\n",
       "    .dataframe tbody tr th {\n",
       "        vertical-align: top;\n",
       "    }\n",
       "\n",
       "    .dataframe thead th {\n",
       "        text-align: right;\n",
       "    }\n",
       "</style>\n",
       "<table border=\"1\" class=\"dataframe\">\n",
       "  <thead>\n",
       "    <tr style=\"text-align: right;\">\n",
       "      <th></th>\n",
       "      <th>RR</th>\n",
       "      <th>Tavg</th>\n",
       "      <th>pta</th>\n",
       "      <th>ptr</th>\n",
       "    </tr>\n",
       "  </thead>\n",
       "  <tbody>\n",
       "    <tr>\n",
       "      <th>0</th>\n",
       "      <td>0.000000</td>\n",
       "      <td>27.700000</td>\n",
       "      <td>27.209077</td>\n",
       "      <td>0.000000</td>\n",
       "    </tr>\n",
       "    <tr>\n",
       "      <th>1</th>\n",
       "      <td>0.000000</td>\n",
       "      <td>27.209077</td>\n",
       "      <td>23.900000</td>\n",
       "      <td>1.200000</td>\n",
       "    </tr>\n",
       "    <tr>\n",
       "      <th>2</th>\n",
       "      <td>1.200000</td>\n",
       "      <td>23.900000</td>\n",
       "      <td>27.209077</td>\n",
       "      <td>6.052888</td>\n",
       "    </tr>\n",
       "    <tr>\n",
       "      <th>3</th>\n",
       "      <td>6.052888</td>\n",
       "      <td>27.209077</td>\n",
       "      <td>27.600000</td>\n",
       "      <td>0.000000</td>\n",
       "    </tr>\n",
       "    <tr>\n",
       "      <th>4</th>\n",
       "      <td>0.000000</td>\n",
       "      <td>27.600000</td>\n",
       "      <td>28.400000</td>\n",
       "      <td>0.000000</td>\n",
       "    </tr>\n",
       "    <tr>\n",
       "      <th>...</th>\n",
       "      <td>...</td>\n",
       "      <td>...</td>\n",
       "      <td>...</td>\n",
       "      <td>...</td>\n",
       "    </tr>\n",
       "    <tr>\n",
       "      <th>349</th>\n",
       "      <td>6.052888</td>\n",
       "      <td>27.209077</td>\n",
       "      <td>27.209077</td>\n",
       "      <td>6.052888</td>\n",
       "    </tr>\n",
       "    <tr>\n",
       "      <th>350</th>\n",
       "      <td>6.052888</td>\n",
       "      <td>27.209077</td>\n",
       "      <td>28.200000</td>\n",
       "      <td>6.052888</td>\n",
       "    </tr>\n",
       "    <tr>\n",
       "      <th>351</th>\n",
       "      <td>6.052888</td>\n",
       "      <td>28.200000</td>\n",
       "      <td>27.100000</td>\n",
       "      <td>22.500000</td>\n",
       "    </tr>\n",
       "    <tr>\n",
       "      <th>352</th>\n",
       "      <td>22.500000</td>\n",
       "      <td>27.100000</td>\n",
       "      <td>29.500000</td>\n",
       "      <td>0.500000</td>\n",
       "    </tr>\n",
       "    <tr>\n",
       "      <th>353</th>\n",
       "      <td>0.500000</td>\n",
       "      <td>29.500000</td>\n",
       "      <td>NaN</td>\n",
       "      <td>NaN</td>\n",
       "    </tr>\n",
       "  </tbody>\n",
       "</table>\n",
       "<p>354 rows × 4 columns</p>\n",
       "</div>"
      ],
      "text/plain": [
       "            RR       Tavg        pta        ptr\n",
       "0     0.000000  27.700000  27.209077   0.000000\n",
       "1     0.000000  27.209077  23.900000   1.200000\n",
       "2     1.200000  23.900000  27.209077   6.052888\n",
       "3     6.052888  27.209077  27.600000   0.000000\n",
       "4     0.000000  27.600000  28.400000   0.000000\n",
       "..         ...        ...        ...        ...\n",
       "349   6.052888  27.209077  27.209077   6.052888\n",
       "350   6.052888  27.209077  28.200000   6.052888\n",
       "351   6.052888  28.200000  27.100000  22.500000\n",
       "352  22.500000  27.100000  29.500000   0.500000\n",
       "353   0.500000  29.500000        NaN        NaN\n",
       "\n",
       "[354 rows x 4 columns]"
      ]
     },
     "execution_count": 14,
     "metadata": {},
     "output_type": "execute_result"
    }
   ],
   "source": [
    "# ambil data RR, tavg, pta, ptr\n",
    "df1 = df1[['RR', 'Tavg', 'pta', 'ptr']]\n",
    "df1"
   ]
  },
  {
   "cell_type": "code",
   "execution_count": 15,
   "metadata": {
    "colab": {
     "base_uri": "https://localhost:8080/",
     "height": 424
    },
    "id": "gpldQf9VdrGN",
    "outputId": "3a279fb1-440c-4696-e509-011cf8f04d53"
   },
   "outputs": [
    {
     "data": {
      "text/html": [
       "<div>\n",
       "<style scoped>\n",
       "    .dataframe tbody tr th:only-of-type {\n",
       "        vertical-align: middle;\n",
       "    }\n",
       "\n",
       "    .dataframe tbody tr th {\n",
       "        vertical-align: top;\n",
       "    }\n",
       "\n",
       "    .dataframe thead th {\n",
       "        text-align: right;\n",
       "    }\n",
       "</style>\n",
       "<table border=\"1\" class=\"dataframe\">\n",
       "  <thead>\n",
       "    <tr style=\"text-align: right;\">\n",
       "      <th></th>\n",
       "      <th>RR</th>\n",
       "      <th>Tavg</th>\n",
       "      <th>pta</th>\n",
       "      <th>ptr</th>\n",
       "    </tr>\n",
       "  </thead>\n",
       "  <tbody>\n",
       "    <tr>\n",
       "      <th>0</th>\n",
       "      <td>0.000000</td>\n",
       "      <td>27.700000</td>\n",
       "      <td>27.209077</td>\n",
       "      <td>0.000000</td>\n",
       "    </tr>\n",
       "    <tr>\n",
       "      <th>1</th>\n",
       "      <td>0.000000</td>\n",
       "      <td>27.209077</td>\n",
       "      <td>23.900000</td>\n",
       "      <td>1.200000</td>\n",
       "    </tr>\n",
       "    <tr>\n",
       "      <th>2</th>\n",
       "      <td>1.200000</td>\n",
       "      <td>23.900000</td>\n",
       "      <td>27.209077</td>\n",
       "      <td>6.052888</td>\n",
       "    </tr>\n",
       "    <tr>\n",
       "      <th>3</th>\n",
       "      <td>6.052888</td>\n",
       "      <td>27.209077</td>\n",
       "      <td>27.600000</td>\n",
       "      <td>0.000000</td>\n",
       "    </tr>\n",
       "    <tr>\n",
       "      <th>4</th>\n",
       "      <td>0.000000</td>\n",
       "      <td>27.600000</td>\n",
       "      <td>28.400000</td>\n",
       "      <td>0.000000</td>\n",
       "    </tr>\n",
       "    <tr>\n",
       "      <th>...</th>\n",
       "      <td>...</td>\n",
       "      <td>...</td>\n",
       "      <td>...</td>\n",
       "      <td>...</td>\n",
       "    </tr>\n",
       "    <tr>\n",
       "      <th>348</th>\n",
       "      <td>0.500000</td>\n",
       "      <td>30.000000</td>\n",
       "      <td>27.209077</td>\n",
       "      <td>6.052888</td>\n",
       "    </tr>\n",
       "    <tr>\n",
       "      <th>349</th>\n",
       "      <td>6.052888</td>\n",
       "      <td>27.209077</td>\n",
       "      <td>27.209077</td>\n",
       "      <td>6.052888</td>\n",
       "    </tr>\n",
       "    <tr>\n",
       "      <th>350</th>\n",
       "      <td>6.052888</td>\n",
       "      <td>27.209077</td>\n",
       "      <td>28.200000</td>\n",
       "      <td>6.052888</td>\n",
       "    </tr>\n",
       "    <tr>\n",
       "      <th>351</th>\n",
       "      <td>6.052888</td>\n",
       "      <td>28.200000</td>\n",
       "      <td>27.100000</td>\n",
       "      <td>22.500000</td>\n",
       "    </tr>\n",
       "    <tr>\n",
       "      <th>352</th>\n",
       "      <td>22.500000</td>\n",
       "      <td>27.100000</td>\n",
       "      <td>29.500000</td>\n",
       "      <td>0.500000</td>\n",
       "    </tr>\n",
       "  </tbody>\n",
       "</table>\n",
       "<p>353 rows × 4 columns</p>\n",
       "</div>"
      ],
      "text/plain": [
       "            RR       Tavg        pta        ptr\n",
       "0     0.000000  27.700000  27.209077   0.000000\n",
       "1     0.000000  27.209077  23.900000   1.200000\n",
       "2     1.200000  23.900000  27.209077   6.052888\n",
       "3     6.052888  27.209077  27.600000   0.000000\n",
       "4     0.000000  27.600000  28.400000   0.000000\n",
       "..         ...        ...        ...        ...\n",
       "348   0.500000  30.000000  27.209077   6.052888\n",
       "349   6.052888  27.209077  27.209077   6.052888\n",
       "350   6.052888  27.209077  28.200000   6.052888\n",
       "351   6.052888  28.200000  27.100000  22.500000\n",
       "352  22.500000  27.100000  29.500000   0.500000\n",
       "\n",
       "[353 rows x 4 columns]"
      ]
     },
     "execution_count": 15,
     "metadata": {},
     "output_type": "execute_result"
    }
   ],
   "source": [
    "#hapus yang kosong\n",
    "df1 = df1.iloc[:-1, :].copy()\n",
    "df1"
   ]
  },
  {
   "cell_type": "code",
   "execution_count": 16,
   "metadata": {
    "id": "bnYMT_oZdrI1"
   },
   "outputs": [],
   "source": [
    "#import library\n",
    "from sklearn.model_selection import train_test_split\n",
    "from sklearn.linear_model import LinearRegression"
   ]
  },
  {
   "cell_type": "code",
   "execution_count": 17,
   "metadata": {
    "colab": {
     "base_uri": "https://localhost:8080/",
     "height": 424
    },
    "id": "hhzpHxm-giRF",
    "outputId": "e2161f47-dc4e-493a-9ced-68dad2e3788f"
   },
   "outputs": [
    {
     "data": {
      "text/html": [
       "<div>\n",
       "<style scoped>\n",
       "    .dataframe tbody tr th:only-of-type {\n",
       "        vertical-align: middle;\n",
       "    }\n",
       "\n",
       "    .dataframe tbody tr th {\n",
       "        vertical-align: top;\n",
       "    }\n",
       "\n",
       "    .dataframe thead th {\n",
       "        text-align: right;\n",
       "    }\n",
       "</style>\n",
       "<table border=\"1\" class=\"dataframe\">\n",
       "  <thead>\n",
       "    <tr style=\"text-align: right;\">\n",
       "      <th></th>\n",
       "      <th>RR</th>\n",
       "      <th>Tavg</th>\n",
       "      <th>pta</th>\n",
       "      <th>ptr</th>\n",
       "      <th>Indeks</th>\n",
       "    </tr>\n",
       "  </thead>\n",
       "  <tbody>\n",
       "    <tr>\n",
       "      <th>0</th>\n",
       "      <td>0.000000</td>\n",
       "      <td>27.700000</td>\n",
       "      <td>27.209077</td>\n",
       "      <td>0.000000</td>\n",
       "      <td>0</td>\n",
       "    </tr>\n",
       "    <tr>\n",
       "      <th>1</th>\n",
       "      <td>0.000000</td>\n",
       "      <td>27.209077</td>\n",
       "      <td>23.900000</td>\n",
       "      <td>1.200000</td>\n",
       "      <td>1</td>\n",
       "    </tr>\n",
       "    <tr>\n",
       "      <th>2</th>\n",
       "      <td>1.200000</td>\n",
       "      <td>23.900000</td>\n",
       "      <td>27.209077</td>\n",
       "      <td>6.052888</td>\n",
       "      <td>2</td>\n",
       "    </tr>\n",
       "    <tr>\n",
       "      <th>3</th>\n",
       "      <td>6.052888</td>\n",
       "      <td>27.209077</td>\n",
       "      <td>27.600000</td>\n",
       "      <td>0.000000</td>\n",
       "      <td>3</td>\n",
       "    </tr>\n",
       "    <tr>\n",
       "      <th>4</th>\n",
       "      <td>0.000000</td>\n",
       "      <td>27.600000</td>\n",
       "      <td>28.400000</td>\n",
       "      <td>0.000000</td>\n",
       "      <td>4</td>\n",
       "    </tr>\n",
       "    <tr>\n",
       "      <th>...</th>\n",
       "      <td>...</td>\n",
       "      <td>...</td>\n",
       "      <td>...</td>\n",
       "      <td>...</td>\n",
       "      <td>...</td>\n",
       "    </tr>\n",
       "    <tr>\n",
       "      <th>348</th>\n",
       "      <td>0.500000</td>\n",
       "      <td>30.000000</td>\n",
       "      <td>27.209077</td>\n",
       "      <td>6.052888</td>\n",
       "      <td>348</td>\n",
       "    </tr>\n",
       "    <tr>\n",
       "      <th>349</th>\n",
       "      <td>6.052888</td>\n",
       "      <td>27.209077</td>\n",
       "      <td>27.209077</td>\n",
       "      <td>6.052888</td>\n",
       "      <td>349</td>\n",
       "    </tr>\n",
       "    <tr>\n",
       "      <th>350</th>\n",
       "      <td>6.052888</td>\n",
       "      <td>27.209077</td>\n",
       "      <td>28.200000</td>\n",
       "      <td>6.052888</td>\n",
       "      <td>350</td>\n",
       "    </tr>\n",
       "    <tr>\n",
       "      <th>351</th>\n",
       "      <td>6.052888</td>\n",
       "      <td>28.200000</td>\n",
       "      <td>27.100000</td>\n",
       "      <td>22.500000</td>\n",
       "      <td>351</td>\n",
       "    </tr>\n",
       "    <tr>\n",
       "      <th>352</th>\n",
       "      <td>22.500000</td>\n",
       "      <td>27.100000</td>\n",
       "      <td>29.500000</td>\n",
       "      <td>0.500000</td>\n",
       "      <td>352</td>\n",
       "    </tr>\n",
       "  </tbody>\n",
       "</table>\n",
       "<p>353 rows × 5 columns</p>\n",
       "</div>"
      ],
      "text/plain": [
       "            RR       Tavg        pta        ptr  Indeks\n",
       "0     0.000000  27.700000  27.209077   0.000000       0\n",
       "1     0.000000  27.209077  23.900000   1.200000       1\n",
       "2     1.200000  23.900000  27.209077   6.052888       2\n",
       "3     6.052888  27.209077  27.600000   0.000000       3\n",
       "4     0.000000  27.600000  28.400000   0.000000       4\n",
       "..         ...        ...        ...        ...     ...\n",
       "348   0.500000  30.000000  27.209077   6.052888     348\n",
       "349   6.052888  27.209077  27.209077   6.052888     349\n",
       "350   6.052888  27.209077  28.200000   6.052888     350\n",
       "351   6.052888  28.200000  27.100000  22.500000     351\n",
       "352  22.500000  27.100000  29.500000   0.500000     352\n",
       "\n",
       "[353 rows x 5 columns]"
      ]
     },
     "execution_count": 17,
     "metadata": {},
     "output_type": "execute_result"
    }
   ],
   "source": [
    "#buat indeks\n",
    "df1['Indeks'] = df1.reset_index().index\n",
    "df1"
   ]
  },
  {
   "cell_type": "code",
   "execution_count": 18,
   "metadata": {
    "id": "VGUMP6PUdrNt"
   },
   "outputs": [],
   "source": [
    "#data training dan testing\n",
    "X = df1[[\"Indeks\", \"Tavg\"]]\n",
    "y = df1[\"pta\"]"
   ]
  },
  {
   "cell_type": "code",
   "execution_count": 19,
   "metadata": {
    "id": "uCzV41M2drQu"
   },
   "outputs": [],
   "source": [
    "#data spliting\n",
    "X_train, X_test, y_train, y_test = train_test_split(X, y, train_size=0.8, test_size = 0.2, random_state=0, shuffle = False)\n"
   ]
  },
  {
   "cell_type": "code",
   "execution_count": 20,
   "metadata": {
    "colab": {
     "base_uri": "https://localhost:8080/",
     "height": 75
    },
    "id": "VMSfNG9qdrV_",
    "outputId": "5e67196e-ade0-4588-e275-f0587e594223"
   },
   "outputs": [
    {
     "data": {
      "text/html": [
       "<style>#sk-container-id-1 {color: black;background-color: white;}#sk-container-id-1 pre{padding: 0;}#sk-container-id-1 div.sk-toggleable {background-color: white;}#sk-container-id-1 label.sk-toggleable__label {cursor: pointer;display: block;width: 100%;margin-bottom: 0;padding: 0.3em;box-sizing: border-box;text-align: center;}#sk-container-id-1 label.sk-toggleable__label-arrow:before {content: \"▸\";float: left;margin-right: 0.25em;color: #696969;}#sk-container-id-1 label.sk-toggleable__label-arrow:hover:before {color: black;}#sk-container-id-1 div.sk-estimator:hover label.sk-toggleable__label-arrow:before {color: black;}#sk-container-id-1 div.sk-toggleable__content {max-height: 0;max-width: 0;overflow: hidden;text-align: left;background-color: #f0f8ff;}#sk-container-id-1 div.sk-toggleable__content pre {margin: 0.2em;color: black;border-radius: 0.25em;background-color: #f0f8ff;}#sk-container-id-1 input.sk-toggleable__control:checked~div.sk-toggleable__content {max-height: 200px;max-width: 100%;overflow: auto;}#sk-container-id-1 input.sk-toggleable__control:checked~label.sk-toggleable__label-arrow:before {content: \"▾\";}#sk-container-id-1 div.sk-estimator input.sk-toggleable__control:checked~label.sk-toggleable__label {background-color: #d4ebff;}#sk-container-id-1 div.sk-label input.sk-toggleable__control:checked~label.sk-toggleable__label {background-color: #d4ebff;}#sk-container-id-1 input.sk-hidden--visually {border: 0;clip: rect(1px 1px 1px 1px);clip: rect(1px, 1px, 1px, 1px);height: 1px;margin: -1px;overflow: hidden;padding: 0;position: absolute;width: 1px;}#sk-container-id-1 div.sk-estimator {font-family: monospace;background-color: #f0f8ff;border: 1px dotted black;border-radius: 0.25em;box-sizing: border-box;margin-bottom: 0.5em;}#sk-container-id-1 div.sk-estimator:hover {background-color: #d4ebff;}#sk-container-id-1 div.sk-parallel-item::after {content: \"\";width: 100%;border-bottom: 1px solid gray;flex-grow: 1;}#sk-container-id-1 div.sk-label:hover label.sk-toggleable__label {background-color: #d4ebff;}#sk-container-id-1 div.sk-serial::before {content: \"\";position: absolute;border-left: 1px solid gray;box-sizing: border-box;top: 0;bottom: 0;left: 50%;z-index: 0;}#sk-container-id-1 div.sk-serial {display: flex;flex-direction: column;align-items: center;background-color: white;padding-right: 0.2em;padding-left: 0.2em;position: relative;}#sk-container-id-1 div.sk-item {position: relative;z-index: 1;}#sk-container-id-1 div.sk-parallel {display: flex;align-items: stretch;justify-content: center;background-color: white;position: relative;}#sk-container-id-1 div.sk-item::before, #sk-container-id-1 div.sk-parallel-item::before {content: \"\";position: absolute;border-left: 1px solid gray;box-sizing: border-box;top: 0;bottom: 0;left: 50%;z-index: -1;}#sk-container-id-1 div.sk-parallel-item {display: flex;flex-direction: column;z-index: 1;position: relative;background-color: white;}#sk-container-id-1 div.sk-parallel-item:first-child::after {align-self: flex-end;width: 50%;}#sk-container-id-1 div.sk-parallel-item:last-child::after {align-self: flex-start;width: 50%;}#sk-container-id-1 div.sk-parallel-item:only-child::after {width: 0;}#sk-container-id-1 div.sk-dashed-wrapped {border: 1px dashed gray;margin: 0 0.4em 0.5em 0.4em;box-sizing: border-box;padding-bottom: 0.4em;background-color: white;}#sk-container-id-1 div.sk-label label {font-family: monospace;font-weight: bold;display: inline-block;line-height: 1.2em;}#sk-container-id-1 div.sk-label-container {text-align: center;}#sk-container-id-1 div.sk-container {/* jupyter's `normalize.less` sets `[hidden] { display: none; }` but bootstrap.min.css set `[hidden] { display: none !important; }` so we also need the `!important` here to be able to override the default hidden behavior on the sphinx rendered scikit-learn.org. See: https://github.com/scikit-learn/scikit-learn/issues/21755 */display: inline-block !important;position: relative;}#sk-container-id-1 div.sk-text-repr-fallback {display: none;}</style><div id=\"sk-container-id-1\" class=\"sk-top-container\"><div class=\"sk-text-repr-fallback\"><pre>LinearRegression()</pre><b>In a Jupyter environment, please rerun this cell to show the HTML representation or trust the notebook. <br />On GitHub, the HTML representation is unable to render, please try loading this page with nbviewer.org.</b></div><div class=\"sk-container\" hidden><div class=\"sk-item\"><div class=\"sk-estimator sk-toggleable\"><input class=\"sk-toggleable__control sk-hidden--visually\" id=\"sk-estimator-id-1\" type=\"checkbox\" checked><label for=\"sk-estimator-id-1\" class=\"sk-toggleable__label sk-toggleable__label-arrow\">LinearRegression</label><div class=\"sk-toggleable__content\"><pre>LinearRegression()</pre></div></div></div></div></div>"
      ],
      "text/plain": [
       "LinearRegression()"
      ]
     },
     "execution_count": 20,
     "metadata": {},
     "output_type": "execute_result"
    }
   ],
   "source": [
    "#data fitting\n",
    "lr = LinearRegression()\n",
    "lr.fit(X_train, y_train)"
   ]
  },
  {
   "cell_type": "code",
   "execution_count": 21,
   "metadata": {
    "colab": {
     "base_uri": "https://localhost:8080/",
     "height": 424
    },
    "id": "zLHMePc4-0Tk",
    "outputId": "5e8a3e90-a28e-41fa-8fd7-1a79f054fe34"
   },
   "outputs": [
    {
     "data": {
      "text/html": [
       "<div>\n",
       "<style scoped>\n",
       "    .dataframe tbody tr th:only-of-type {\n",
       "        vertical-align: middle;\n",
       "    }\n",
       "\n",
       "    .dataframe tbody tr th {\n",
       "        vertical-align: top;\n",
       "    }\n",
       "\n",
       "    .dataframe thead th {\n",
       "        text-align: right;\n",
       "    }\n",
       "</style>\n",
       "<table border=\"1\" class=\"dataframe\">\n",
       "  <thead>\n",
       "    <tr style=\"text-align: right;\">\n",
       "      <th></th>\n",
       "      <th>Indeks</th>\n",
       "      <th>Tavg</th>\n",
       "    </tr>\n",
       "  </thead>\n",
       "  <tbody>\n",
       "    <tr>\n",
       "      <th>282</th>\n",
       "      <td>282</td>\n",
       "      <td>27.900000</td>\n",
       "    </tr>\n",
       "    <tr>\n",
       "      <th>283</th>\n",
       "      <td>283</td>\n",
       "      <td>29.000000</td>\n",
       "    </tr>\n",
       "    <tr>\n",
       "      <th>284</th>\n",
       "      <td>284</td>\n",
       "      <td>25.800000</td>\n",
       "    </tr>\n",
       "    <tr>\n",
       "      <th>285</th>\n",
       "      <td>285</td>\n",
       "      <td>28.400000</td>\n",
       "    </tr>\n",
       "    <tr>\n",
       "      <th>286</th>\n",
       "      <td>286</td>\n",
       "      <td>28.500000</td>\n",
       "    </tr>\n",
       "    <tr>\n",
       "      <th>...</th>\n",
       "      <td>...</td>\n",
       "      <td>...</td>\n",
       "    </tr>\n",
       "    <tr>\n",
       "      <th>348</th>\n",
       "      <td>348</td>\n",
       "      <td>30.000000</td>\n",
       "    </tr>\n",
       "    <tr>\n",
       "      <th>349</th>\n",
       "      <td>349</td>\n",
       "      <td>27.209077</td>\n",
       "    </tr>\n",
       "    <tr>\n",
       "      <th>350</th>\n",
       "      <td>350</td>\n",
       "      <td>27.209077</td>\n",
       "    </tr>\n",
       "    <tr>\n",
       "      <th>351</th>\n",
       "      <td>351</td>\n",
       "      <td>28.200000</td>\n",
       "    </tr>\n",
       "    <tr>\n",
       "      <th>352</th>\n",
       "      <td>352</td>\n",
       "      <td>27.100000</td>\n",
       "    </tr>\n",
       "  </tbody>\n",
       "</table>\n",
       "<p>71 rows × 2 columns</p>\n",
       "</div>"
      ],
      "text/plain": [
       "     Indeks       Tavg\n",
       "282     282  27.900000\n",
       "283     283  29.000000\n",
       "284     284  25.800000\n",
       "285     285  28.400000\n",
       "286     286  28.500000\n",
       "..      ...        ...\n",
       "348     348  30.000000\n",
       "349     349  27.209077\n",
       "350     350  27.209077\n",
       "351     351  28.200000\n",
       "352     352  27.100000\n",
       "\n",
       "[71 rows x 2 columns]"
      ]
     },
     "execution_count": 21,
     "metadata": {},
     "output_type": "execute_result"
    }
   ],
   "source": [
    "X_test"
   ]
  },
  {
   "cell_type": "code",
   "execution_count": 22,
   "metadata": {
    "colab": {
     "base_uri": "https://localhost:8080/"
    },
    "id": "eB6WKQsYdrZd",
    "outputId": "6ef2f59b-e237-4ee3-d1fb-9f6c9ec53f38"
   },
   "outputs": [
    {
     "data": {
      "text/plain": [
       "array([27.47731776, 27.71888829, 27.02126607, 27.59046198, 27.6136156 ,\n",
       "       27.72413598, 27.76913129, 27.61755137, 27.16018776, 26.79019092,\n",
       "       27.35938683, 27.66648244, 27.31832729, 27.34346346, 26.75306715,\n",
       "       27.30042137, 27.67304205, 27.45593705, 27.61014082, 27.74250289,\n",
       "       27.56908128, 27.19908444, 27.44065497, 27.50749197, 27.18117852,\n",
       "       27.48827412, 27.66431958, 27.55642304, 27.38300143, 27.20957982,\n",
       "       27.56035881, 27.45246227, 27.67219112, 27.54245289, 27.5656065 ,\n",
       "       27.61060181, 27.34981343, 27.26375858, 27.30875389, 27.37757344,\n",
       "       27.68268649, 27.66215672, 27.29215989, 27.29347181, 27.27294204,\n",
       "       27.25241227, 27.38477434, 27.25503611, 27.38938074, 27.34502672,\n",
       "       27.63028064, 27.56606749, 27.43632926, 26.95712396, 27.08948603,\n",
       "       27.70236533, 27.85656909, 27.24631364, 27.37867572, 27.13972903,\n",
       "       27.70892494, 27.57918671, 27.40774765, 27.34155195, 27.58312248,\n",
       "       27.43154256, 28.02258016, 27.41430726, 27.41561919, 27.63336547,\n",
       "       27.39441879])"
      ]
     },
     "execution_count": 22,
     "metadata": {},
     "output_type": "execute_result"
    }
   ],
   "source": [
    "#testing\n",
    "pred1 = lr.predict(X_test)\n",
    "pred1"
   ]
  },
  {
   "cell_type": "code",
   "execution_count": 23,
   "metadata": {
    "colab": {
     "base_uri": "https://localhost:8080/"
    },
    "id": "PwSbbHfzdre2",
    "outputId": "f1ab671c-aac4-477b-dc43-8f24249c8a4b"
   },
   "outputs": [
    {
     "name": "stdout",
     "output_type": "stream",
     "text": [
      "0.8716493155653274 1.1579381516509297\n"
     ]
    }
   ],
   "source": [
    "from sklearn.metrics import mean_absolute_error\n",
    "from sklearn.metrics import mean_squared_error\n",
    "mae = mean_absolute_error(y_test, pred1)\n",
    "mse = mean_squared_error(y_test, pred1)\n",
    "print(mae, mse)"
   ]
  },
  {
   "cell_type": "code",
   "execution_count": 24,
   "metadata": {
    "colab": {
     "base_uri": "https://localhost:8080/",
     "height": 424
    },
    "id": "3Wcy4HRUkuk2",
    "outputId": "209cdde3-4138-45d3-d835-9504d8f4a016"
   },
   "outputs": [
    {
     "data": {
      "text/html": [
       "<div>\n",
       "<style scoped>\n",
       "    .dataframe tbody tr th:only-of-type {\n",
       "        vertical-align: middle;\n",
       "    }\n",
       "\n",
       "    .dataframe tbody tr th {\n",
       "        vertical-align: top;\n",
       "    }\n",
       "\n",
       "    .dataframe thead th {\n",
       "        text-align: right;\n",
       "    }\n",
       "</style>\n",
       "<table border=\"1\" class=\"dataframe\">\n",
       "  <thead>\n",
       "    <tr style=\"text-align: right;\">\n",
       "      <th></th>\n",
       "      <th>Indeks</th>\n",
       "      <th>Tavg</th>\n",
       "    </tr>\n",
       "  </thead>\n",
       "  <tbody>\n",
       "    <tr>\n",
       "      <th>282</th>\n",
       "      <td>282</td>\n",
       "      <td>27.900000</td>\n",
       "    </tr>\n",
       "    <tr>\n",
       "      <th>283</th>\n",
       "      <td>283</td>\n",
       "      <td>29.000000</td>\n",
       "    </tr>\n",
       "    <tr>\n",
       "      <th>284</th>\n",
       "      <td>284</td>\n",
       "      <td>25.800000</td>\n",
       "    </tr>\n",
       "    <tr>\n",
       "      <th>285</th>\n",
       "      <td>285</td>\n",
       "      <td>28.400000</td>\n",
       "    </tr>\n",
       "    <tr>\n",
       "      <th>286</th>\n",
       "      <td>286</td>\n",
       "      <td>28.500000</td>\n",
       "    </tr>\n",
       "    <tr>\n",
       "      <th>...</th>\n",
       "      <td>...</td>\n",
       "      <td>...</td>\n",
       "    </tr>\n",
       "    <tr>\n",
       "      <th>348</th>\n",
       "      <td>348</td>\n",
       "      <td>30.000000</td>\n",
       "    </tr>\n",
       "    <tr>\n",
       "      <th>349</th>\n",
       "      <td>349</td>\n",
       "      <td>27.209077</td>\n",
       "    </tr>\n",
       "    <tr>\n",
       "      <th>350</th>\n",
       "      <td>350</td>\n",
       "      <td>27.209077</td>\n",
       "    </tr>\n",
       "    <tr>\n",
       "      <th>351</th>\n",
       "      <td>351</td>\n",
       "      <td>28.200000</td>\n",
       "    </tr>\n",
       "    <tr>\n",
       "      <th>352</th>\n",
       "      <td>352</td>\n",
       "      <td>27.100000</td>\n",
       "    </tr>\n",
       "  </tbody>\n",
       "</table>\n",
       "<p>71 rows × 2 columns</p>\n",
       "</div>"
      ],
      "text/plain": [
       "     Indeks       Tavg\n",
       "282     282  27.900000\n",
       "283     283  29.000000\n",
       "284     284  25.800000\n",
       "285     285  28.400000\n",
       "286     286  28.500000\n",
       "..      ...        ...\n",
       "348     348  30.000000\n",
       "349     349  27.209077\n",
       "350     350  27.209077\n",
       "351     351  28.200000\n",
       "352     352  27.100000\n",
       "\n",
       "[71 rows x 2 columns]"
      ]
     },
     "execution_count": 24,
     "metadata": {},
     "output_type": "execute_result"
    }
   ],
   "source": [
    "X_test['Indeks'] = X_test.index\n",
    "X_test"
   ]
  },
  {
   "cell_type": "code",
   "execution_count": 25,
   "metadata": {
    "colab": {
     "base_uri": "https://localhost:8080/",
     "height": 455
    },
    "id": "K5RcVIoJkFwB",
    "outputId": "3216a4d0-ded3-463f-bbb1-a46170d0d684"
   },
   "outputs": [
    {
     "data": {
      "text/html": [
       "<div>\n",
       "<style scoped>\n",
       "    .dataframe tbody tr th:only-of-type {\n",
       "        vertical-align: middle;\n",
       "    }\n",
       "\n",
       "    .dataframe tbody tr th {\n",
       "        vertical-align: top;\n",
       "    }\n",
       "\n",
       "    .dataframe thead th {\n",
       "        text-align: right;\n",
       "    }\n",
       "</style>\n",
       "<table border=\"1\" class=\"dataframe\">\n",
       "  <thead>\n",
       "    <tr style=\"text-align: right;\">\n",
       "      <th></th>\n",
       "      <th>0</th>\n",
       "    </tr>\n",
       "    <tr>\n",
       "      <th>Indeks</th>\n",
       "      <th></th>\n",
       "    </tr>\n",
       "  </thead>\n",
       "  <tbody>\n",
       "    <tr>\n",
       "      <th>282</th>\n",
       "      <td>27.477318</td>\n",
       "    </tr>\n",
       "    <tr>\n",
       "      <th>283</th>\n",
       "      <td>27.718888</td>\n",
       "    </tr>\n",
       "    <tr>\n",
       "      <th>284</th>\n",
       "      <td>27.021266</td>\n",
       "    </tr>\n",
       "    <tr>\n",
       "      <th>285</th>\n",
       "      <td>27.590462</td>\n",
       "    </tr>\n",
       "    <tr>\n",
       "      <th>286</th>\n",
       "      <td>27.613616</td>\n",
       "    </tr>\n",
       "    <tr>\n",
       "      <th>...</th>\n",
       "      <td>...</td>\n",
       "    </tr>\n",
       "    <tr>\n",
       "      <th>348</th>\n",
       "      <td>28.022580</td>\n",
       "    </tr>\n",
       "    <tr>\n",
       "      <th>349</th>\n",
       "      <td>27.414307</td>\n",
       "    </tr>\n",
       "    <tr>\n",
       "      <th>350</th>\n",
       "      <td>27.415619</td>\n",
       "    </tr>\n",
       "    <tr>\n",
       "      <th>351</th>\n",
       "      <td>27.633365</td>\n",
       "    </tr>\n",
       "    <tr>\n",
       "      <th>352</th>\n",
       "      <td>27.394419</td>\n",
       "    </tr>\n",
       "  </tbody>\n",
       "</table>\n",
       "<p>71 rows × 1 columns</p>\n",
       "</div>"
      ],
      "text/plain": [
       "                0\n",
       "Indeks           \n",
       "282     27.477318\n",
       "283     27.718888\n",
       "284     27.021266\n",
       "285     27.590462\n",
       "286     27.613616\n",
       "...           ...\n",
       "348     28.022580\n",
       "349     27.414307\n",
       "350     27.415619\n",
       "351     27.633365\n",
       "352     27.394419\n",
       "\n",
       "[71 rows x 1 columns]"
      ]
     },
     "execution_count": 25,
     "metadata": {},
     "output_type": "execute_result"
    }
   ],
   "source": [
    "predd = pd.DataFrame(pred1).set_index(X_test['Indeks'])\n",
    "predd"
   ]
  },
  {
   "cell_type": "code",
   "execution_count": 26,
   "metadata": {
    "colab": {
     "base_uri": "https://localhost:8080/",
     "height": 478
    },
    "id": "YXKY5Fr4kFyw",
    "outputId": "2ebb3d1c-2f77-41dd-8925-6f4da3b72164"
   },
   "outputs": [
    {
     "name": "stderr",
     "output_type": "stream",
     "text": [
      "C:\\Users\\rivan\\AppData\\Local\\Temp\\ipykernel_10720\\2636922572.py:2: FutureWarning: In a future version of pandas all arguments of DataFrame.sort_index will be keyword-only.\n",
      "  kan.sort_index(False).head(1000)\n"
     ]
    },
    {
     "data": {
      "text/html": [
       "<div>\n",
       "<style scoped>\n",
       "    .dataframe tbody tr th:only-of-type {\n",
       "        vertical-align: middle;\n",
       "    }\n",
       "\n",
       "    .dataframe tbody tr th {\n",
       "        vertical-align: top;\n",
       "    }\n",
       "\n",
       "    .dataframe thead th {\n",
       "        text-align: right;\n",
       "    }\n",
       "</style>\n",
       "<table border=\"1\" class=\"dataframe\">\n",
       "  <thead>\n",
       "    <tr style=\"text-align: right;\">\n",
       "      <th></th>\n",
       "      <th>Tavg</th>\n",
       "      <th>0</th>\n",
       "    </tr>\n",
       "  </thead>\n",
       "  <tbody>\n",
       "    <tr>\n",
       "      <th>0</th>\n",
       "      <td>27.700000</td>\n",
       "      <td>NaN</td>\n",
       "    </tr>\n",
       "    <tr>\n",
       "      <th>1</th>\n",
       "      <td>27.209077</td>\n",
       "      <td>NaN</td>\n",
       "    </tr>\n",
       "    <tr>\n",
       "      <th>2</th>\n",
       "      <td>23.900000</td>\n",
       "      <td>NaN</td>\n",
       "    </tr>\n",
       "    <tr>\n",
       "      <th>3</th>\n",
       "      <td>27.209077</td>\n",
       "      <td>NaN</td>\n",
       "    </tr>\n",
       "    <tr>\n",
       "      <th>4</th>\n",
       "      <td>27.600000</td>\n",
       "      <td>NaN</td>\n",
       "    </tr>\n",
       "    <tr>\n",
       "      <th>...</th>\n",
       "      <td>...</td>\n",
       "      <td>...</td>\n",
       "    </tr>\n",
       "    <tr>\n",
       "      <th>348</th>\n",
       "      <td>30.000000</td>\n",
       "      <td>28.022580</td>\n",
       "    </tr>\n",
       "    <tr>\n",
       "      <th>349</th>\n",
       "      <td>27.209077</td>\n",
       "      <td>27.414307</td>\n",
       "    </tr>\n",
       "    <tr>\n",
       "      <th>350</th>\n",
       "      <td>27.209077</td>\n",
       "      <td>27.415619</td>\n",
       "    </tr>\n",
       "    <tr>\n",
       "      <th>351</th>\n",
       "      <td>28.200000</td>\n",
       "      <td>27.633365</td>\n",
       "    </tr>\n",
       "    <tr>\n",
       "      <th>352</th>\n",
       "      <td>27.100000</td>\n",
       "      <td>27.394419</td>\n",
       "    </tr>\n",
       "  </tbody>\n",
       "</table>\n",
       "<p>353 rows × 2 columns</p>\n",
       "</div>"
      ],
      "text/plain": [
       "          Tavg          0\n",
       "0    27.700000        NaN\n",
       "1    27.209077        NaN\n",
       "2    23.900000        NaN\n",
       "3    27.209077        NaN\n",
       "4    27.600000        NaN\n",
       "..         ...        ...\n",
       "348  30.000000  28.022580\n",
       "349  27.209077  27.414307\n",
       "350  27.209077  27.415619\n",
       "351  28.200000  27.633365\n",
       "352  27.100000  27.394419\n",
       "\n",
       "[353 rows x 2 columns]"
      ]
     },
     "execution_count": 26,
     "metadata": {},
     "output_type": "execute_result"
    }
   ],
   "source": [
    "kan = pd.concat([df1['Tavg'], predd], axis=1)\n",
    "kan.sort_index(False).head(1000)"
   ]
  },
  {
   "cell_type": "code",
   "execution_count": 27,
   "metadata": {
    "colab": {
     "base_uri": "https://localhost:8080/",
     "height": 447
    },
    "id": "mARSA5aYkF1Y",
    "outputId": "d24e9460-cc06-4b28-f3b2-f10d3465b129"
   },
   "outputs": [
    {
     "data": {
      "text/plain": [
       "<Axes: >"
      ]
     },
     "execution_count": 27,
     "metadata": {},
     "output_type": "execute_result"
    },
    {
     "data": {
      "image/png": "[encoded data removed]",
      "text/plain": [
       "<Figure size 640x480 with 1 Axes>"
      ]
     },
     "metadata": {},
     "output_type": "display_data"
    }
   ],
   "source": [
    "kan.plot()"
   ]
  },
  {
   "cell_type": "code",
   "execution_count": 30,
   "metadata": {
    "colab": {
     "base_uri": "https://localhost:8080/"
    },
    "id": "uXazyR4WkF4A",
    "outputId": "4ea07384-45eb-4fad-b5af-fa7c15266166"
   },
   "outputs": [
    {
     "name": "stderr",
     "output_type": "stream",
     "text": [
      "C:\\Users\\rivan\\anaconda3\\lib\\site-packages\\sklearn\\base.py:420: UserWarning: X does not have valid feature names, but LinearRegression was fitted with feature names\n",
      "  warnings.warn(\n"
     ]
    },
    {
     "data": {
      "text/plain": [
       "array([27.39704263, 27.39835455, 27.39966647, 27.4009784 , 27.40229032,\n",
       "       27.40360224, 27.40491416])"
      ]
     },
     "execution_count": 30,
     "metadata": {},
     "output_type": "execute_result"
    }
   ],
   "source": [
    "new_data = [[354, 27.1],[355, 27.1],[356, 27.1],[357, 27.1],[358, 27.1],[359, 27.1],[360, 27.1]]\n",
    "lr.predict(new_data)"
   ]
  },
  {
   "cell_type": "code",
   "execution_count": 31,
   "metadata": {
    "id": "R3agHc1-kF6Y"
   },
   "outputs": [],
   "source": [
    "kan.to_json('Prediksi Kalimantan Tengah.json')"
   ]
  },
  {
   "cell_type": "code",
   "execution_count": null,
   "metadata": {
    "id": "UqaIWTatkF84"
   },
   "outputs": [],
   "source": []
  },
  {
   "cell_type": "code",
   "execution_count": null,
   "metadata": {
    "id": "cUmZ584wkF_f"
   },
   "outputs": [],
   "source": []
  },
  {
   "cell_type": "code",
   "execution_count": null,
   "metadata": {
    "id": "o2rerFudkGCI"
   },
   "outputs": [],
   "source": []
  },
  {
   "cell_type": "code",
   "execution_count": null,
   "metadata": {
    "id": "x4v_zCCxkGE2"
   },
   "outputs": [],
   "source": []
  }
 ],
 "metadata": {
  "colab": {
   "provenance": []
  },
  "kernelspec": {
   "display_name": "Python 3 (ipykernel)",
   "language": "python",
   "name": "python3"
  },
  "language_info": {
   "codemirror_mode": {
    "name": "ipython",
    "version": 3
   },
   "file_extension": ".py",
   "mimetype": "text/x-python",
   "name": "python",
   "nbconvert_exporter": "python",
   "pygments_lexer": "ipython3",
   "version": "3.10.9"
  }
 },
 "nbformat": 4,
 "nbformat_minor": 1
}
